{
 "cells": [
  {
   "cell_type": "code",
   "execution_count": 0,
   "metadata": {
    "application/vnd.databricks.v1+cell": {
     "cellMetadata": {
      "byteLimit": 2048000,
      "rowLimit": 10000
     },
     "inputWidgets": {},
     "nuid": "7cf1d675-0097-40fa-8c06-0e7eaf98dea4",
     "showTitle": false,
     "tableResultSettingsMap": {},
     "title": ""
    }
   },
   "outputs": [],
   "source": [
    "install.packages(\"gdldata\")\n",
    "\n",
    "devtools::install_github(\"GlobalDataLab/R-data-api\")\n",
    "\n",
    "library(gdldata)\n",
    "\n",
    "api_key <- dbutils.widgets.get(\"api\")\n",
    "print(api_key)\n",
    "sess <- gdl_session(api_key)"
   ]
  },
  {
   "cell_type": "code",
   "execution_count": 0,
   "metadata": {
    "application/vnd.databricks.v1+cell": {
     "cellMetadata": {
      "byteLimit": 2048000,
      "rowLimit": 10000
     },
     "inputWidgets": {},
     "nuid": "3f7dd599-9fce-45f8-823c-64e76338497b",
     "showTitle": false,
     "tableResultSettingsMap": {},
     "title": ""
    }
   },
   "outputs": [],
   "source": [
    "# shdi is their dataset where population data lives \n",
    "sess <- set_dataset(sess, \"shdi\")\n",
    "\n",
    "# Filter to Liberia (ISO3 “LBR”) and the single “pop” indicator to remove noise\n",
    "sess <- set_country(sess,  \"LBR\")    \n",
    "sess <- set_indicator(sess, \"pop\")   # Population size in thousands \n",
    "\n",
    "# Specify the administrative levels you want (1 = county, 4 = district)\n",
    "sess <- set_levels(sess, c(1, 4))   \n",
    "\n",
    "# Turn off interpolation and extrapolation so you only get observed survey years\n",
    "sess <- set_interpolation(sess, FALSE)           \n",
    "sess <- set_extrapolation_years_linear(sess, 0)  \n",
    "sess <- set_extrapolation_years_nearest(sess, 0)\n",
    "\n",
    "pop_ts <- gdl_request(sess)           \n",
    "\n",
    "# Inspect\n",
    "head(pop_ts)"
   ]
  },
  {
   "cell_type": "code",
   "execution_count": 0,
   "metadata": {
    "application/vnd.databricks.v1+cell": {
     "cellMetadata": {
      "byteLimit": 2048000,
      "rowLimit": 10000
     },
     "inputWidgets": {},
     "nuid": "8612c235-1e2b-4fc2-a281-f966e0067c03",
     "showTitle": false,
     "tableResultSettingsMap": {},
     "title": ""
    }
   },
   "outputs": [],
   "source": [
    "names(pop_ts)\n"
   ]
  },
  {
   "cell_type": "code",
   "execution_count": 0,
   "metadata": {
    "application/vnd.databricks.v1+cell": {
     "cellMetadata": {
      "byteLimit": 2048000,
      "rowLimit": 10000
     },
     "inputWidgets": {},
     "nuid": "610009f8-99e5-41bc-a328-b71813d012a3",
     "showTitle": false,
     "tableResultSettingsMap": {},
     "title": ""
    }
   },
   "outputs": [],
   "source": [
    "suppressPackageStartupMessages({\n",
    "  library(dplyr)\n",
    "  library(tidyr)\n",
    "})\n",
    "\n",
    "pop_ts_clean <- pop_ts %>%\n",
    "  filter(Level == \"Subnat\") %>%\n",
    "  pivot_longer(\n",
    "    cols           = starts_with(\"X\"),\n",
    "    names_to       = \"year\",\n",
    "    names_prefix   = \"X\",\n",
    "    values_to      = \"population\",\n",
    "    values_drop_na = TRUE\n",
    "  ) %>%\n",
    "  mutate(\n",
    "    country_name = \"Liberia\",\n",
    "    adm1_name    = Region,\n",
    "    year         = as.integer(year),\n",
    "    population   = as.numeric(population)*1000,\n",
    "    data_sources = paste0(\n",
    "      \"https://globaldatalab.org/shdi/table/\",\n",
    "      year,\n",
    "      \"/shdi+lgnic+pop/LBR/?levels=1+4&interpolation=0&extrapolation=0\"\n",
    "    )\n",
    "  ) %>%\n",
    "  select(country_name, adm1_name, year, population, data_sources)\n",
    "\n",
    "head(pop_ts_clean, 10)\n"
   ]
  },
  {
   "cell_type": "code",
   "execution_count": 0,
   "metadata": {
    "application/vnd.databricks.v1+cell": {
     "cellMetadata": {
      "byteLimit": 2048000,
      "rowLimit": 10000
     },
     "inputWidgets": {},
     "nuid": "27eab383-85c3-4c41-af0d-46a3cb12eed4",
     "showTitle": false,
     "tableResultSettingsMap": {},
     "title": ""
    }
   },
   "outputs": [],
   "source": [
    "library(SparkR)\n",
    "\n",
    "sparkR.session()\n",
    "\n",
    "database_name <- \"prd_mega.indicator_intermediate\"\n",
    "table_name    <- \"lbr_subnational_population\"\n",
    "full_table    <- paste(database_name, table_name, sep = \".\")\n",
    "\n",
    "sql(paste(\"CREATE DATABASE IF NOT EXISTS\", database_name))\n",
    "\n",
    "sdf_pop <- createDataFrame(pop_ts_clean)\n",
    "\n",
    "saveAsTable(\n",
    "  sdf_pop,     \n",
    "  full_table,   \n",
    "  mode = \"overwrite\"\n",
    ")"
   ]
  }
 ],
 "metadata": {
  "application/vnd.databricks.v1+notebook": {
   "computePreferences": null,
   "dashboards": [],
   "environmentMetadata": {
    "base_environment": "",
    "environment_version": "2"
   },
   "inputWidgetPreferences": null,
   "language": "r",
   "notebookMetadata": {
    "pythonIndentUnit": 4
   },
   "notebookName": "lbr_subnational_population.py",
   "widgets": {
    "api": {
     "currentValue": "H1uvxLgpjHsvgPi8n_n6TbM_bhYvNre4ewlsjkERUjM",
     "nuid": "e93b2356-0211-4be7-90b2-41ea3f5736e2",
     "typedWidgetInfo": {
      "autoCreated": false,
      "defaultValue": "",
      "label": "API Key",
      "name": "api",
      "options": {
       "widgetDisplayType": "Text",
       "validationRegex": null
      },
      "parameterDataType": "String"
     },
     "widgetInfo": {
      "widgetType": "text",
      "defaultValue": "",
      "label": "API Key",
      "name": "api",
      "options": {
       "widgetType": "text",
       "autoCreated": false,
       "validationRegex": null
      }
     }
    }
   }
  },
  "language_info": {
   "name": "r"
  }
 },
 "nbformat": 4,
 "nbformat_minor": 0
}
