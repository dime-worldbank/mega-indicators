{
 "cells": [
  {
   "cell_type": "code",
   "execution_count": 0,
   "metadata": {
    "application/vnd.databricks.v1+cell": {
     "cellMetadata": {
      "byteLimit": 2048000,
      "rowLimit": 10000
     },
     "inputWidgets": {},
     "nuid": "752480cb-633b-4ec3-b05e-63e0c442d644",
     "showTitle": false,
     "tableResultSettingsMap": {},
     "title": ""
    }
   },
   "outputs": [],
   "source": [
    "%pip install openpyxl"
   ]
  },
  {
   "cell_type": "code",
   "execution_count": 0,
   "metadata": {
    "application/vnd.databricks.v1+cell": {
     "cellMetadata": {
      "byteLimit": 2048000,
      "rowLimit": 10000
     },
     "inputWidgets": {},
     "nuid": "4701141c-44a3-4af2-bb92-ab0d9b2cdb28",
     "showTitle": false,
     "tableResultSettingsMap": {},
     "title": ""
    }
   },
   "outputs": [],
   "source": [
    "import pandas as pd\n",
    "\n",
    "# Post 2015 population estimates\n",
    "URL = \"https://www2.census.gov/programs-surveys/international-programs/tables/time-series/pepfar/ghana.xlsx\"\n",
    "\n",
    "df_raw = pd.read_excel(URL, sheet_name='2015 - 2030', skiprows=2, header=None)\n",
    "# Read correct header\n",
    "header = df_raw.iloc[1]\n",
    "df_raw.columns = header\n",
    "df_raw = df_raw.drop([0,1,2])\n",
    "\n",
    "# Extract Total population columns (since there are multiple breakups, for example by gender etc)\n",
    "df_pop_wide = df_raw[df_raw.ADM_LEVEL==1][['CNTRY_NAME', 'ADM1_NAME']+[x for x in header if 'BTOTL' in x]]\n",
    "df_pop = pd.melt(df_pop_wide, id_vars=['CNTRY_NAME', 'ADM1_NAME'], var_name='year', value_name='population')\n",
    "df_pop['year'] = df_pop['year'].str.extract(r'(\\d+)').astype(int)\n",
    "df_pop.columns = ['country_name', 'adm1_name', 'year', 'population']\n",
    "\n",
    "# Modifications to the admin1 and county name and add data_source\n",
    "df_pop['country_name'] = df_pop['country_name'].str.title()\n",
    "df_pop['adm1_name'] = (\n",
    "    df_pop['adm1_name']\n",
    "    .str.replace(r'[-/]+', ' ', regex=True)\n",
    "    .str.replace(r'(?i)\\bRegion\\b', '', regex=True)\n",
    "    .str.strip()\n",
    "    .str.title()\n",
    ")\n",
    "df_pop['data_source'] = URL\n",
    "df_pop = df_pop.astype({'year': 'int', 'population': 'int'})\n",
    "df_pop = df_pop.sort_values(['adm1_name', 'year'], ignore_index=True)\n"
   ]
  },
  {
   "cell_type": "code",
   "execution_count": 0,
   "metadata": {
    "application/vnd.databricks.v1+cell": {
     "cellMetadata": {
      "byteLimit": 2048000,
      "rowLimit": 10000
     },
     "inputWidgets": {},
     "nuid": "3fa3c698-cdec-4058-a9f6-f9c6cf29791c",
     "showTitle": false,
     "tableResultSettingsMap": {},
     "title": ""
    }
   },
   "outputs": [],
   "source": [
    "num_adm1_units = df_pop.adm1_name.nunique()\n",
    "\n",
    "assert df_pop.shape[0] >= 256, f'Expect at least 208 rows, got {df_pop.shape[0]}'\n",
    "assert all(df_pop.population.notnull()), f'Expect no missing values in population field, got {sum(df_pop.population.isnull())} null values'\n",
    "assert num_adm1_units == 16"
   ]
  },
  {
   "cell_type": "code",
   "execution_count": 0,
   "metadata": {
    "application/vnd.databricks.v1+cell": {
     "cellMetadata": {
      "byteLimit": 2048000,
      "rowLimit": 10000
     },
     "inputWidgets": {},
     "nuid": "f2c113a4-1828-4f9b-8216-ae95dce5f910",
     "showTitle": false,
     "tableResultSettingsMap": {},
     "title": ""
    }
   },
   "outputs": [],
   "source": [
    "# Write to indicator_intermediate (UC)\n",
    "database_name = \"prd_mega.indicator_intermediate\"\n",
    "\n",
    "if not spark.catalog.databaseExists(database_name):\n",
    "    print(f\"Database '{database_name}' does not exist. Creating the database.\")\n",
    "    spark.sql(f\"CREATE DATABASE {database_name}\")\n",
    "\n",
    "sdf = spark.createDataFrame(df_pop)\n",
    "sdf.write.mode(\"overwrite\").saveAsTable(f\"{database_name}.gha_subnational_population\")"
   ]
  }
 ],
 "metadata": {
  "application/vnd.databricks.v1+notebook": {
   "computePreferences": null,
   "dashboards": [],
   "environmentMetadata": {
    "base_environment": "",
    "client": "2"
   },
   "language": "python",
   "notebookMetadata": {
    "pythonIndentUnit": 4
   },
   "notebookName": "gha_subnational_population",
   "widgets": {}
  },
  "language_info": {
   "name": "python"
  }
 },
 "nbformat": 4,
 "nbformat_minor": 0
}
