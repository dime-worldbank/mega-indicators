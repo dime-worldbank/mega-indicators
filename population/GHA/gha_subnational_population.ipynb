{
 "cells": [
  {
   "cell_type": "code",
   "execution_count": 0,
   "metadata": {
    "application/vnd.databricks.v1+cell": {
     "cellMetadata": {
      "byteLimit": 2048000,
      "rowLimit": 10000
     },
     "inputWidgets": {},
     "nuid": "5f1a43fe-aa35-48f9-92df-d30b288c71ee",
     "showTitle": false,
     "tableResultSettingsMap": {},
     "title": ""
    }
   },
   "outputs": [],
   "source": [
    "%run ../subnational_population_extraction_from_census_gov"
   ]
  },
  {
   "cell_type": "code",
   "execution_count": 0,
   "metadata": {
    "application/vnd.databricks.v1+cell": {
     "cellMetadata": {
      "byteLimit": 2048000,
      "rowLimit": 10000
     },
     "inputWidgets": {},
     "nuid": "05b367e8-0aaa-4114-b49c-21e207489894",
     "showTitle": false,
     "tableResultSettingsMap": {},
     "title": ""
    }
   },
   "outputs": [],
   "source": [
    "df_pop = get_pop_from_census_gov('ghana')\n",
    "df_pop['adm1_name'] = (\n",
    "    df_pop['adm1_name']\n",
    "    .str.replace(r'(?i)\\bRegion\\b', '', regex=True)\n",
    "    .str.strip()\n",
    ")"
   ]
  },
  {
   "cell_type": "code",
   "execution_count": 0,
   "metadata": {
    "application/vnd.databricks.v1+cell": {
     "cellMetadata": {
      "byteLimit": 2048000,
      "rowLimit": 10000
     },
     "inputWidgets": {},
     "nuid": "d2eb50b9-e2c7-4f9b-8236-a4c317595dde",
     "showTitle": false,
     "tableResultSettingsMap": {},
     "title": ""
    }
   },
   "outputs": [],
   "source": [
    "extracted_adm1_names = sorted(df_pop.adm1_name.unique().tolist())\n",
    "expected_adm1_names = ['Ahafo', 'Ashanti', 'Bono', 'Bono East', 'Central', 'Eastern',\n",
    "       'Greater Accra', 'North East', 'Northern', 'Oti', 'Savannah',\n",
    "       'Upper East', 'Upper West', 'Volta', 'Western', 'Western North']\n",
    "assert extracted_adm1_names == expected_adm1_names, extracted_adm1_names"
   ]
  },
  {
   "cell_type": "code",
   "execution_count": 0,
   "metadata": {
    "application/vnd.databricks.v1+cell": {
     "cellMetadata": {
      "byteLimit": 2048000,
      "rowLimit": 10000
     },
     "inputWidgets": {},
     "nuid": "3fa3c698-cdec-4058-a9f6-f9c6cf29791c",
     "showTitle": false,
     "tableResultSettingsMap": {},
     "title": ""
    }
   },
   "outputs": [],
   "source": [
    "assert df_pop.shape[0] >= 256, f'Expect at least 208 rows, got {df_pop.shape[0]}'\n",
    "assert all(df_pop.population.notnull()), f'Expect no missing values in population field, got {sum(df_pop.population.isnull())} null values'\n",
    "\n",
    "num_adm1_units = df_pop.adm1_name.nunique()\n",
    "assert num_adm1_units == 16"
   ]
  },
  {
   "cell_type": "code",
   "execution_count": 0,
   "metadata": {
    "application/vnd.databricks.v1+cell": {
     "cellMetadata": {
      "byteLimit": 2048000,
      "rowLimit": 10000
     },
     "inputWidgets": {},
     "nuid": "f2c113a4-1828-4f9b-8216-ae95dce5f910",
     "showTitle": false,
     "tableResultSettingsMap": {},
     "title": ""
    }
   },
   "outputs": [],
   "source": [
    "# Write to indicator_intermediate (UC)\n",
    "database_name = \"prd_mega.indicator_intermediate\"\n",
    "\n",
    "if not spark.catalog.databaseExists(database_name):\n",
    "    print(f\"Database '{database_name}' does not exist. Creating the database.\")\n",
    "    spark.sql(f\"CREATE DATABASE {database_name}\")\n",
    "\n",
    "sdf = spark.createDataFrame(df_pop)\n",
    "sdf.write.mode(\"overwrite\").saveAsTable(f\"{database_name}.gha_subnational_population\")"
   ]
  }
 ],
 "metadata": {
  "application/vnd.databricks.v1+notebook": {
   "computePreferences": null,
   "dashboards": [],
   "environmentMetadata": {
    "base_environment": "",
    "environment_version": "2"
   },
   "inputWidgetPreferences": null,
   "language": "python",
   "notebookMetadata": {
    "pythonIndentUnit": 4
   },
   "notebookName": "gha_subnational_population",
   "widgets": {}
  },
  "language_info": {
   "name": "python"
  }
 },
 "nbformat": 4,
 "nbformat_minor": 0
}
