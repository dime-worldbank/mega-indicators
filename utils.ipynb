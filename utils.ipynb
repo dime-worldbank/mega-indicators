{
 "cells": [
  {
   "cell_type": "code",
   "execution_count": 0,
   "metadata": {
    "application/vnd.databricks.v1+cell": {
     "cellMetadata": {},
     "inputWidgets": {},
     "nuid": "24edf2fc-4706-495b-becd-a27bb1b0e1cf",
     "showTitle": false,
     "tableResultSettingsMap": {},
     "title": ""
    }
   },
   "outputs": [],
   "source": [
    "%pip install wbgapi"
   ]
  },
  {
   "cell_type": "code",
   "execution_count": 0,
   "metadata": {
    "application/vnd.databricks.v1+cell": {
     "cellMetadata": {},
     "inputWidgets": {},
     "nuid": "c8466960-b3d4-4a56-98cd-86436e29b6ff",
     "showTitle": false,
     "tableResultSettingsMap": {},
     "title": ""
    }
   },
   "outputs": [],
   "source": [
    "import wbgapi as wb\n",
    "import pandas as pd\n",
    "from databricks.sdk.runtime import spark\n",
    "\n",
    "def wbgapi_fetch(indicators, col_names, data_source):\n",
    "    long_dfs = []\n",
    "    for series, col_name in zip(indicators, col_names):\n",
    "        df = wb.data.DataFrame(series, skipBlanks=True).reset_index()\n",
    "        long_df = df.melt(id_vars='economy', var_name='year', value_name=col_name)\n",
    "        long_df = long_df.dropna(subset=col_name)\n",
    "        long_df['year'] = long_df['year'].str.replace('YR', '')\n",
    "        long_df = long_df.astype({'year': 'int'})\n",
    "        long_dfs.append(long_df)\n",
    "\n",
    "    merged_df = long_dfs[0]\n",
    "    for df in long_dfs[1:]:\n",
    "        merged_df = pd.merge(merged_df, df, on=['economy', 'year'])\n",
    "\n",
    "    merged_df['data_source'] = data_source\n",
    "\n",
    "    country_df = spark.table(f'indicator.country').select('country_name', 'country_code', 'region').toPandas()\n",
    "    country_df\n",
    "    df = pd.merge(merged_df, country_df, left_on='economy', right_on='country_code', how='left')[['country_name', 'country_code', 'region', 'year', *col_names, 'data_source']]\n",
    "\n",
    "    return df\n",
    "    "
   ]
  }
 ],
 "metadata": {
  "application/vnd.databricks.v1+notebook": {
   "computePreferences": null,
   "dashboards": [],
   "environmentMetadata": {
    "base_environment": "",
    "client": "1"
   },
   "language": "python",
   "notebookMetadata": {
    "pythonIndentUnit": 4
   },
   "notebookName": "utils",
   "widgets": {}
  },
  "language_info": {
   "name": "python"
  }
 },
 "nbformat": 4,
 "nbformat_minor": 0
}
